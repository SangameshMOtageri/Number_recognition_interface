{
 "cells": [
  {
   "cell_type": "code",
   "execution_count": 56,
   "metadata": {},
   "outputs": [],
   "source": [
    "%matplotlib inline\n",
    "import matplotlib.pyplot as plt\n",
    "import tensorflow as tf\n",
    "import numpy as np\n",
    "from sklearn.metrics import confusion_matrix\n",
    "import time\n",
    "from datetime import timedelta\n",
    "import math"
   ]
  },
  {
   "cell_type": "code",
   "execution_count": 57,
   "metadata": {},
   "outputs": [],
   "source": [
    "import cv2\n",
    "import os"
   ]
  },
  {
   "cell_type": "code",
   "execution_count": 111,
   "metadata": {},
   "outputs": [
    {
     "name": "stdout",
     "output_type": "stream",
     "text": [
      "WARNING:tensorflow:From c:\\users\\india\\appdata\\local\\programs\\python\\python35\\lib\\site-packages\\tensorflow\\contrib\\learn\\python\\learn\\datasets\\base.py:252: _internal_retry.<locals>.wrap.<locals>.wrapped_fn (from tensorflow.contrib.learn.python.learn.datasets.base) is deprecated and will be removed in a future version.\n",
      "Instructions for updating:\n",
      "Please use urllib or similar directly.\n",
      "Successfully downloaded train-images-idx3-ubyte.gz 9912422 bytes.\n",
      "Extracting /Downloads/mnists\\train-images-idx3-ubyte.gz\n",
      "Successfully downloaded train-labels-idx1-ubyte.gz 28881 bytes.\n",
      "Extracting /Downloads/mnists\\train-labels-idx1-ubyte.gz\n",
      "Successfully downloaded t10k-images-idx3-ubyte.gz 1648877 bytes.\n",
      "Extracting /Downloads/mnists\\t10k-images-idx3-ubyte.gz\n",
      "Successfully downloaded t10k-labels-idx1-ubyte.gz 4542 bytes.\n",
      "Extracting /Downloads/mnists\\t10k-labels-idx1-ubyte.gz\n"
     ]
    }
   ],
   "source": [
    "from tensorflow.examples.tutorials.mnist import input_data\n",
    "data = input_data.read_data_sets('/Downloads/mnists', one_hot='True')"
   ]
  },
  {
   "cell_type": "code",
   "execution_count": 112,
   "metadata": {},
   "outputs": [],
   "source": [
    "filter_1 = 5\n",
    "channels_1 = 16\n",
    "\n",
    "filter_2 = 5\n",
    "channels_2 = 36\n",
    "\n",
    "fc_size = 128"
   ]
  },
  {
   "cell_type": "code",
   "execution_count": 113,
   "metadata": {},
   "outputs": [],
   "source": [
    "saver = tf.train.Saver()"
   ]
  },
  {
   "cell_type": "code",
   "execution_count": 114,
   "metadata": {},
   "outputs": [],
   "source": [
    "y_true_test_cls = np.argmax(data.test.labels, axis = 1)"
   ]
  },
  {
   "cell_type": "code",
   "execution_count": 115,
   "metadata": {},
   "outputs": [],
   "source": [
    "save_path = 'weights_biases/CNN_mnist'"
   ]
  },
  {
   "cell_type": "code",
   "execution_count": 116,
   "metadata": {},
   "outputs": [],
   "source": [
    "imgsize = 28*28\n",
    "input_channels = 1\n",
    "num_classes = 10"
   ]
  },
  {
   "cell_type": "code",
   "execution_count": 117,
   "metadata": {},
   "outputs": [],
   "source": [
    "data.test.cls = np.argmax(data.test.labels, axis=1)\n",
    "data.validation.cls = np.argmax(data.validation.labels, axis=1)"
   ]
  },
  {
   "cell_type": "code",
   "execution_count": 76,
   "metadata": {},
   "outputs": [],
   "source": [
    "def plot_image(images, cls_true, cls_pred = None):\n",
    "    fig, axes = plt.subplots(1,2)\n",
    "    fig.subplots_adjust(hspace = 0.3, wspace = 0.3)\n",
    "    for i,ax in enumerate(axes.flat):\n",
    "        if cls_pred is not None:\n",
    "            xlabel = 'True:{0} and Pred:{1}'.format(cls_true[i], cls_pred[i])\n",
    "        else:\n",
    "            xlabel = 'True:{0} '.format(cls_true[i])\n",
    "        ax.imshow(images[i].reshape(28, 28), cmap='binary')\n",
    "        ax.set_xlabel(xlabel)\n"
   ]
  },
  {
   "cell_type": "code",
   "execution_count": 118,
   "metadata": {},
   "outputs": [
    {
     "name": "stdout",
     "output_type": "stream",
     "text": [
      "(784,)\n"
     ]
    },
    {
     "data": {
      "image/png": "[encoded data removed]",
      "text/plain": [
       "<Figure size 432x288 with 2 Axes>"
      ]
     },
     "metadata": {
      "needs_background": "light"
     },
     "output_type": "display_data"
    }
   ],
   "source": [
    "image_test = data.test.images[1:3]\n",
    "cls_true = y_true_test_cls[1:3]\n",
    "pred = np.array([7,2])\n",
    "plot_image(images=image_test, cls_true=cls_true, cls_pred=pred)\n",
    "print(image_test[0].shape)"
   ]
  },
  {
   "cell_type": "code",
   "execution_count": 78,
   "metadata": {},
   "outputs": [],
   "source": [
    "def new_weights(shape):\n",
    "    return tf.Variable(tf.truncated_normal(shape, stddev = 0.05))\n",
    "def new_biases(biaslength):\n",
    "    return tf.Variable(tf.constant(0.05, shape=[biaslength]))"
   ]
  },
  {
   "cell_type": "code",
   "execution_count": 79,
   "metadata": {},
   "outputs": [],
   "source": [
    "def new_conv_layer(input_image,\n",
    "              num_channels,#number of channels in the previous layer output(Ex:16)\n",
    "              filter_size,#usually 5x5\n",
    "              num_filters,#number of channels coming out of this layer(Ex:36)\n",
    "              pooling = True):\n",
    "    shape = [filter_size, filter_size, num_channels, num_filters]\n",
    "    weights = new_weights(shape)\n",
    "    biases = new_biases(biaslength = num_filters)\n",
    "    \n",
    "    layer = tf.nn.conv2d(input = input_image,\n",
    "                        filter = weights,\n",
    "                        strides = [1,1,1,1],#input_imgae_number, x_axis, y_Axis, channels in use.change only middle two\n",
    "                        padding = 'SAME')\n",
    "    layer += biases\n",
    "    \n",
    "    if pooling:\n",
    "        layer = tf.nn.max_pool(value = layer,\n",
    "                              ksize = [1,2,2,1],#Size of window to be considered(window from which we pick the max value)\n",
    "                              strides = [1,2,2,1],#Usually the same as the window size\n",
    "                              padding = 'SAME')\n",
    "    layer = tf.nn.relu(layer)\n",
    "    \n",
    "    return layer, weights"
   ]
  },
  {
   "cell_type": "code",
   "execution_count": 80,
   "metadata": {},
   "outputs": [],
   "source": [
    "def flatten_layer(layer):\n",
    "    #Usually the conv layer returns a 4 dim data, we need to flatten to 2 dim before giving it to FC layer.\n",
    "    layer_shape = layer.shape\n",
    "    #Expected: [num_images, img_width, imag_height, num_channels]\n",
    "    num_features = np.array(layer_shape[1:4], dtype=int).prod()\n",
    "    #transform to 2dim, [num_images, num_features]\n",
    "    layer_flat = tf.reshape(layer, [-1, num_features])\n",
    "    return layer_flat, num_features"
   ]
  },
  {
   "cell_type": "code",
   "execution_count": 81,
   "metadata": {},
   "outputs": [],
   "source": [
    "#We are expecting the input to be a 2 dimensional data.[num_images, num_inputs==num_features].\n",
    "#Output will be again a 2 dim[num_images, num_outputs]\n",
    "def fully_connected_layer(images,#input from previous layer\n",
    "                         num_inputs,\n",
    "                         num_outputs,\n",
    "                         relu = True):\n",
    "    weights = new_weights(shape = [num_inputs, num_outputs])\n",
    "    biases = new_biases(biaslength = num_outputs)\n",
    "    \n",
    "    layer = tf.matmul(images, weights) + biases\n",
    "    \n",
    "    if relu:\n",
    "        layer = tf.nn.relu(layer)\n",
    "    \n",
    "    return layer"
   ]
  },
  {
   "cell_type": "code",
   "execution_count": 82,
   "metadata": {},
   "outputs": [],
   "source": [
    "x = tf.placeholder(tf.float32, shape=[None, imgsize], name='x')\n",
    "#We are going to be givign the entire image data to this variable. meaning num_images X all pixels.\n",
    "x_image = tf.reshape(x, [-1, 28, 28, input_channels])\n",
    "#For feeding into the conv layer. [num_images, image_x_size, image_y_size, num_of_channels]\n",
    "y_true = tf.placeholder(tf.float32, shape=[None, num_classes], name='y_true')\n",
    "#[num_images, num_classes]\n",
    "y_true_cls = tf.argmax(y_true, dimension=1)"
   ]
  },
  {
   "cell_type": "code",
   "execution_count": 83,
   "metadata": {},
   "outputs": [],
   "source": [
    "layer_1, weights_1 = new_conv_layer(input_image = x_image,\n",
    "                                      num_channels = input_channels,#number of channels in the previous layer output(Ex:16)\n",
    "                                      filter_size = filter_1,#usually 5x5\n",
    "                                      num_filters = channels_1,#number of channels coming out of this layer(Ex:36)\n",
    "                                      pooling = True)\n",
    "#We are actually providing all the images at once here. To understand see that x_image is of [num_images, 28, 28, 1=gray_image]\n"
   ]
  },
  {
   "cell_type": "code",
   "execution_count": 85,
   "metadata": {},
   "outputs": [
    {
     "data": {
      "text/plain": [
       "<tf.Variable 'Variable_8:0' shape=(5, 5, 1, 16) dtype=float32_ref>"
      ]
     },
     "execution_count": 85,
     "metadata": {},
     "output_type": "execute_result"
    }
   ],
   "source": [
    "weights_1"
   ]
  },
  {
   "cell_type": "code",
   "execution_count": 86,
   "metadata": {},
   "outputs": [],
   "source": [
    "layer_2, weights_2 = new_conv_layer(input_image = layer_1,#This is ok, becasue we are providing conv layer with 4 dim data\n",
    "                                      num_channels = channels_1,#number of channels in the previous layer output(Ex:16)\n",
    "                                      filter_size = filter_2,#usually 5x5\n",
    "                                      num_filters = channels_2,#number of channels coming out of this layer(Ex:36)\n",
    "                                      pooling = True)"
   ]
  },
  {
   "cell_type": "code",
   "execution_count": 87,
   "metadata": {},
   "outputs": [
    {
     "data": {
      "text/plain": [
       "<tf.Tensor 'Relu_4:0' shape=(?, 7, 7, 36) dtype=float32>"
      ]
     },
     "execution_count": 87,
     "metadata": {},
     "output_type": "execute_result"
    }
   ],
   "source": [
    "layer_2"
   ]
  },
  {
   "cell_type": "code",
   "execution_count": 88,
   "metadata": {},
   "outputs": [
    {
     "data": {
      "text/plain": [
       "<tf.Variable 'Variable_10:0' shape=(5, 5, 16, 36) dtype=float32_ref>"
      ]
     },
     "execution_count": 88,
     "metadata": {},
     "output_type": "execute_result"
    }
   ],
   "source": [
    "weights_2"
   ]
  },
  {
   "cell_type": "code",
   "execution_count": 89,
   "metadata": {},
   "outputs": [],
   "source": [
    "layer_flat, num_features = flatten_layer(layer_2)"
   ]
  },
  {
   "cell_type": "code",
   "execution_count": 90,
   "metadata": {},
   "outputs": [
    {
     "data": {
      "text/plain": [
       "<tf.Tensor 'Reshape_3:0' shape=(?, 1764) dtype=float32>"
      ]
     },
     "execution_count": 90,
     "metadata": {},
     "output_type": "execute_result"
    }
   ],
   "source": [
    "layer_flat"
   ]
  },
  {
   "cell_type": "code",
   "execution_count": 91,
   "metadata": {},
   "outputs": [],
   "source": [
    "#We use flatten API, because without it multiplication in the fully connected layer would be ver hard\n",
    "layer_fc_1 = fully_connected_layer(images = layer_flat,#input from the last conv layer.[num_images, num_features]\n",
    "                         num_inputs = num_features,\n",
    "                         num_outputs = fc_size,#This is the number of nodes in the first fully connected layer\n",
    "                         relu = True)"
   ]
  },
  {
   "cell_type": "code",
   "execution_count": 92,
   "metadata": {},
   "outputs": [
    {
     "data": {
      "text/plain": [
       "<tf.Tensor 'Relu_5:0' shape=(?, 128) dtype=float32>"
      ]
     },
     "execution_count": 92,
     "metadata": {},
     "output_type": "execute_result"
    }
   ],
   "source": [
    "layer_fc_1"
   ]
  },
  {
   "cell_type": "code",
   "execution_count": 93,
   "metadata": {},
   "outputs": [],
   "source": [
    "layer_fc_2 = fully_connected_layer(images = layer_fc_1,#input from the last conv layer.[num_images, num_features]\n",
    "                         num_inputs = fc_size,\n",
    "                         num_outputs = num_classes,#This is the number of nodes in the first fully connected layer\n",
    "                         relu = False)"
   ]
  },
  {
   "cell_type": "code",
   "execution_count": 94,
   "metadata": {},
   "outputs": [
    {
     "data": {
      "text/plain": [
       "<tf.Tensor 'add_7:0' shape=(?, 10) dtype=float32>"
      ]
     },
     "execution_count": 94,
     "metadata": {},
     "output_type": "execute_result"
    }
   ],
   "source": [
    "layer_fc_2"
   ]
  },
  {
   "cell_type": "code",
   "execution_count": 95,
   "metadata": {},
   "outputs": [],
   "source": [
    "#layer_fc_2 gives us the likely hood of each image belonging to a particular class.Now lets normalize it to get some readability\n",
    "#Note layer_fc_2 could be producing data which is too large or too small as well. Now we put that to some readable level.\n",
    "pred = tf.nn.softmax(layer_fc_2)\n",
    "y_pred_cls = tf.argmax(pred, dimension = 1)"
   ]
  },
  {
   "cell_type": "code",
   "execution_count": 96,
   "metadata": {},
   "outputs": [
    {
     "data": {
      "text/plain": [
       "<tf.Tensor 'ArgMax_3:0' shape=(?,) dtype=int64>"
      ]
     },
     "execution_count": 96,
     "metadata": {},
     "output_type": "execute_result"
    }
   ],
   "source": [
    "y_pred_cls"
   ]
  },
  {
   "cell_type": "code",
   "execution_count": 97,
   "metadata": {},
   "outputs": [],
   "source": [
    "#This section is to evaluate performance of each iteration. The cost\n",
    "cross_entropy = tf.nn.softmax_cross_entropy_with_logits(logits = layer_fc_2,\n",
    "                                              labels = y_true)\n",
    "#Here cross entropy is calculated for each image. That has to be normalized over all images\n",
    "\n",
    "cost = tf.reduce_mean(cross_entropy)"
   ]
  },
  {
   "cell_type": "code",
   "execution_count": 98,
   "metadata": {},
   "outputs": [],
   "source": [
    "optimizer = tf.train.AdamOptimizer(learning_rate = 1e-4).minimize(cost)"
   ]
  },
  {
   "cell_type": "code",
   "execution_count": 99,
   "metadata": {},
   "outputs": [],
   "source": [
    "correct_prediction = tf.equal(y_pred_cls, y_true_cls)\n",
    "#correct_prediction wil be true or false. We first convert it to 1 or 0. The we take the mean over all input images\n",
    "accuracy = tf.reduce_mean(tf.cast(correct_prediction, tf.float32))"
   ]
  },
  {
   "cell_type": "code",
   "execution_count": 100,
   "metadata": {},
   "outputs": [],
   "source": [
    "session = tf.Session()"
   ]
  },
  {
   "cell_type": "code",
   "execution_count": 101,
   "metadata": {},
   "outputs": [],
   "source": [
    "def init_all():\n",
    "    session.run(tf.initialize_all_variables())"
   ]
  },
  {
   "cell_type": "code",
   "execution_count": 102,
   "metadata": {},
   "outputs": [],
   "source": [
    "train_batch_size = 100\n",
    "total_iterations = 0\n",
    "max_validation_acc = 0"
   ]
  },
  {
   "cell_type": "code",
   "execution_count": 119,
   "metadata": {},
   "outputs": [],
   "source": [
    "def run_the_model(num_iterations):\n",
    "    global total_iterations\n",
    "    global max_validation_acc\n",
    "    for i in range(num_iterations):\n",
    "        x_batch, y_batch = data.train.next_batch(batch_size = train_batch_size)\n",
    "        \n",
    "        feed_dict_train = {x: x_batch,\n",
    "                          y_true: y_batch}\n",
    "        \n",
    "        session.run(optimizer, feed_dict = feed_dict_train)\n",
    "        \n",
    "        total_iterations = total_iterations + 1\n",
    "        if total_iterations % 100 == 0:\n",
    "            \n",
    "            acc = session.run(accuracy, feed_dict = feed_dict_train)\n",
    "            validation_acc = get_validation_accuracy()\n",
    "            testing_acc = get_test_accuracy()\n",
    "            print('Iterations: ',total_iterations,' Training_accuracy: ',acc, ' Testing_accuracy: ',testing_acc, \n",
    "                 ' Validation_accuracy: ', validation_acc)\n",
    "            if validation_acc < max_validation_acc:\n",
    "                if  violation_before == 5:\n",
    "                    print('Max_validation accuracy: ', max_validation_acc)\n",
    "                    i = num_iterations\n",
    "                else:\n",
    "                    violation_before = violation_before + 1\n",
    "            else:\n",
    "                violation_before = 0\n",
    "                max_validation_acc = validation_acc\n",
    "                saver.save(sess=session, save_path=save_path)\n",
    "    acc = session.run(accuracy, feed_dict = feed_dict_train)\n",
    "    validation_acc = get_validation_accuracy()\n",
    "    testing_acc = get_test_accuracy()\n",
    "    print('Iterations: ',total_iterations,' Training_accuracy: ',acc, ' Testing_accuracy: ',testing_acc, \n",
    "                 ' Validation_accuracy: ', validation_acc)\n",
    "        "
   ]
  },
  {
   "cell_type": "code",
   "execution_count": 104,
   "metadata": {},
   "outputs": [],
   "source": [
    "def get_test_accuracy():\n",
    "    return print_accuracy(data.test.images,\n",
    "                  data.test.labels,\n",
    "                  data.test.cls)"
   ]
  },
  {
   "cell_type": "code",
   "execution_count": 105,
   "metadata": {},
   "outputs": [],
   "source": [
    "def get_validation_accuracy():\n",
    "    return print_accuracy(data.validation.images,\n",
    "                  data.validation.labels,\n",
    "                  data.validation.cls)"
   ]
  },
  {
   "cell_type": "code",
   "execution_count": 106,
   "metadata": {},
   "outputs": [],
   "source": [
    "test_batch_size = 256\n",
    "def print_accuracy(dataimages, datalabels, true_datalabels):\n",
    "    num_test_examples = len(dataimages)\n",
    "    cls_pred = np.zeros(shape=num_test_examples, dtype=np.int)\n",
    "    i = 0\n",
    "    j = 0\n",
    "    while i < num_test_examples:\n",
    "        #print('running ', (num_test_examples-i))\n",
    "        j = min(test_batch_size + i, num_test_examples)\n",
    "        images = dataimages[i:j, :]\n",
    "        labels = datalabels[i:j, :]\n",
    "        feed_dict_test = {x: images,\n",
    "                         y_true: labels}\n",
    "        cls_pred[i:j] = session.run(y_pred_cls, feed_dict = feed_dict_test)\n",
    "        i = j\n",
    "    cls_true = true_datalabels\n",
    "    #print(cls_true.shape)\n",
    "    #print(cls_pred.shape)\n",
    "    correct = (cls_true == cls_pred)\n",
    "    acc = correct.sum()/num_test_examples\n",
    "    print('accuracy: ',format(acc*100),'%')\n",
    "    return acc"
   ]
  },
  {
   "cell_type": "code",
   "execution_count": 125,
   "metadata": {},
   "outputs": [],
   "source": [
    "init_all()"
   ]
  },
  {
   "cell_type": "code",
   "execution_count": 128,
   "metadata": {},
   "outputs": [
    {
     "name": "stdout",
     "output_type": "stream",
     "text": [
      "accuracy:  91.72 %\n"
     ]
    },
    {
     "data": {
      "text/plain": [
       "0.9172"
      ]
     },
     "execution_count": 128,
     "metadata": {},
     "output_type": "execute_result"
    }
   ],
   "source": [
    "get_test_accuracy()"
   ]
  },
  {
   "cell_type": "code",
   "execution_count": 129,
   "metadata": {},
   "outputs": [
    {
     "name": "stdout",
     "output_type": "stream",
     "text": [
      "accuracy:  91.56 %\n"
     ]
    },
    {
     "data": {
      "text/plain": [
       "0.9156"
      ]
     },
     "execution_count": 129,
     "metadata": {},
     "output_type": "execute_result"
    }
   ],
   "source": [
    "get_validation_accuracy()"
   ]
  },
  {
   "cell_type": "code",
   "execution_count": 123,
   "metadata": {},
   "outputs": [
    {
     "name": "stdout",
     "output_type": "stream",
     "text": [
      "accuracy:  83.82 %\n",
      "accuracy:  84.36 %\n",
      "Iterations:  200  Training_accuracy:  0.81  Testing_accuracy:  0.8436  Validation_accuracy:  0.8382\n",
      "accuracy:  87.36 %\n",
      "accuracy:  88.03999999999999 %\n",
      "Iterations:  300  Training_accuracy:  0.87  Testing_accuracy:  0.8804  Validation_accuracy:  0.8736\n",
      "accuracy:  89.14 %\n",
      "accuracy:  89.73 %\n",
      "Iterations:  400  Training_accuracy:  0.84  Testing_accuracy:  0.8973  Validation_accuracy:  0.8914\n",
      "accuracy:  91.16 %\n",
      "accuracy:  91.25999999999999 %\n",
      "Iterations:  500  Training_accuracy:  0.93  Testing_accuracy:  0.9126  Validation_accuracy:  0.9116\n",
      "accuracy:  91.56 %\n",
      "accuracy:  91.72 %\n",
      "Iterations:  600  Training_accuracy:  0.93  Testing_accuracy:  0.9172  Validation_accuracy:  0.9156\n",
      "accuracy:  91.56 %\n",
      "accuracy:  91.72 %\n",
      "Iterations:  600  Training_accuracy:  0.93  Testing_accuracy:  0.9172  Validation_accuracy:  0.9156\n"
     ]
    }
   ],
   "source": [
    "run_the_model(num_iterations = 500)#change to 1000"
   ]
  },
  {
   "cell_type": "code",
   "execution_count": 132,
   "metadata": {},
   "outputs": [],
   "source": [
    "def get_image_orig():\n",
    "    img = cv2.imread('C:/Users/india/Downloads/image.png', 0).astype(np.float32)\n",
    "    #img = 255-img\n",
    "    img = img/255\n",
    "    #img = img*255\n",
    "    \n",
    "    print('calling for image')\n",
    "    #img.dtype='float32'\n",
    "    resized_image = cv2.resize(img, (28,28))\n",
    "    print(resized_image.shape)\n",
    "    plt.imshow(resized_image, cmap='gray')\n",
    "    resized_image = resized_image.reshape(1,784)\n",
    "    print(resized_image.shape)\n",
    "    #os.remove('C:/Users/india/Downloads/image.png')\n",
    "\n",
    "    return resized_image"
   ]
  },
  {
   "cell_type": "code",
   "execution_count": 134,
   "metadata": {},
   "outputs": [
    {
     "name": "stdout",
     "output_type": "stream",
     "text": [
      "calling for image\n",
      "(28, 28)\n",
      "(1, 784)\n",
      "Prediction:  [2]\n"
     ]
    },
    {
     "data": {
      "image/png": "[encoded data removed]",
      "text/plain": [
       "<Figure size 432x288 with 1 Axes>"
      ]
     },
     "metadata": {
      "needs_background": "light"
     },
     "output_type": "display_data"
    }
   ],
   "source": [
    "input_data = get_image_orig()\n",
    "print('Prediction: ',session.run(y_pred_cls, feed_dict = {x: input_data}))"
   ]
  },
  {
   "cell_type": "code",
   "execution_count": 124,
   "metadata": {},
   "outputs": [
    {
     "data": {
      "text/plain": [
       "[<tf.Variable 'Variable:0' shape=(5, 5, 1, 16) dtype=float32_ref>,\n",
       " <tf.Variable 'Variable_1:0' shape=(16,) dtype=float32_ref>,\n",
       " <tf.Variable 'Variable_2:0' shape=(5, 5, 16, 36) dtype=float32_ref>,\n",
       " <tf.Variable 'Variable_3:0' shape=(36,) dtype=float32_ref>,\n",
       " <tf.Variable 'Variable_4:0' shape=(1764, 128) dtype=float32_ref>,\n",
       " <tf.Variable 'Variable_5:0' shape=(128,) dtype=float32_ref>,\n",
       " <tf.Variable 'Variable_6:0' shape=(128, 10) dtype=float32_ref>,\n",
       " <tf.Variable 'Variable_7:0' shape=(10,) dtype=float32_ref>,\n",
       " <tf.Variable 'beta1_power:0' shape=() dtype=float32_ref>,\n",
       " <tf.Variable 'beta2_power:0' shape=() dtype=float32_ref>,\n",
       " <tf.Variable 'Variable/Adam:0' shape=(5, 5, 1, 16) dtype=float32_ref>,\n",
       " <tf.Variable 'Variable/Adam_1:0' shape=(5, 5, 1, 16) dtype=float32_ref>,\n",
       " <tf.Variable 'Variable_1/Adam:0' shape=(16,) dtype=float32_ref>,\n",
       " <tf.Variable 'Variable_1/Adam_1:0' shape=(16,) dtype=float32_ref>,\n",
       " <tf.Variable 'Variable_2/Adam:0' shape=(5, 5, 16, 36) dtype=float32_ref>,\n",
       " <tf.Variable 'Variable_2/Adam_1:0' shape=(5, 5, 16, 36) dtype=float32_ref>,\n",
       " <tf.Variable 'Variable_3/Adam:0' shape=(36,) dtype=float32_ref>,\n",
       " <tf.Variable 'Variable_3/Adam_1:0' shape=(36,) dtype=float32_ref>,\n",
       " <tf.Variable 'Variable_4/Adam:0' shape=(1764, 128) dtype=float32_ref>,\n",
       " <tf.Variable 'Variable_4/Adam_1:0' shape=(1764, 128) dtype=float32_ref>,\n",
       " <tf.Variable 'Variable_5/Adam:0' shape=(128,) dtype=float32_ref>,\n",
       " <tf.Variable 'Variable_5/Adam_1:0' shape=(128,) dtype=float32_ref>,\n",
       " <tf.Variable 'Variable_6/Adam:0' shape=(128, 10) dtype=float32_ref>,\n",
       " <tf.Variable 'Variable_6/Adam_1:0' shape=(128, 10) dtype=float32_ref>,\n",
       " <tf.Variable 'Variable_7/Adam:0' shape=(10,) dtype=float32_ref>,\n",
       " <tf.Variable 'Variable_7/Adam_1:0' shape=(10,) dtype=float32_ref>,\n",
       " <tf.Variable 'Variable_8:0' shape=(5, 5, 1, 16) dtype=float32_ref>,\n",
       " <tf.Variable 'Variable_9:0' shape=(16,) dtype=float32_ref>,\n",
       " <tf.Variable 'Variable_10:0' shape=(5, 5, 16, 36) dtype=float32_ref>,\n",
       " <tf.Variable 'Variable_11:0' shape=(36,) dtype=float32_ref>,\n",
       " <tf.Variable 'Variable_12:0' shape=(1764, 128) dtype=float32_ref>,\n",
       " <tf.Variable 'Variable_13:0' shape=(128,) dtype=float32_ref>,\n",
       " <tf.Variable 'Variable_14:0' shape=(128, 10) dtype=float32_ref>,\n",
       " <tf.Variable 'Variable_15:0' shape=(10,) dtype=float32_ref>,\n",
       " <tf.Variable 'beta1_power_1:0' shape=() dtype=float32_ref>,\n",
       " <tf.Variable 'beta2_power_1:0' shape=() dtype=float32_ref>,\n",
       " <tf.Variable 'Variable_8/Adam:0' shape=(5, 5, 1, 16) dtype=float32_ref>,\n",
       " <tf.Variable 'Variable_8/Adam_1:0' shape=(5, 5, 1, 16) dtype=float32_ref>,\n",
       " <tf.Variable 'Variable_9/Adam:0' shape=(16,) dtype=float32_ref>,\n",
       " <tf.Variable 'Variable_9/Adam_1:0' shape=(16,) dtype=float32_ref>,\n",
       " <tf.Variable 'Variable_10/Adam:0' shape=(5, 5, 16, 36) dtype=float32_ref>,\n",
       " <tf.Variable 'Variable_10/Adam_1:0' shape=(5, 5, 16, 36) dtype=float32_ref>,\n",
       " <tf.Variable 'Variable_11/Adam:0' shape=(36,) dtype=float32_ref>,\n",
       " <tf.Variable 'Variable_11/Adam_1:0' shape=(36,) dtype=float32_ref>,\n",
       " <tf.Variable 'Variable_12/Adam:0' shape=(1764, 128) dtype=float32_ref>,\n",
       " <tf.Variable 'Variable_12/Adam_1:0' shape=(1764, 128) dtype=float32_ref>,\n",
       " <tf.Variable 'Variable_13/Adam:0' shape=(128,) dtype=float32_ref>,\n",
       " <tf.Variable 'Variable_13/Adam_1:0' shape=(128,) dtype=float32_ref>,\n",
       " <tf.Variable 'Variable_14/Adam:0' shape=(128, 10) dtype=float32_ref>,\n",
       " <tf.Variable 'Variable_14/Adam_1:0' shape=(128, 10) dtype=float32_ref>,\n",
       " <tf.Variable 'Variable_15/Adam:0' shape=(10,) dtype=float32_ref>,\n",
       " <tf.Variable 'Variable_15/Adam_1:0' shape=(10,) dtype=float32_ref>]"
      ]
     },
     "execution_count": 124,
     "metadata": {},
     "output_type": "execute_result"
    }
   ],
   "source": [
    "tf.all_variables()"
   ]
  },
  {
   "cell_type": "code",
   "execution_count": 127,
   "metadata": {},
   "outputs": [
    {
     "name": "stdout",
     "output_type": "stream",
     "text": [
      "INFO:tensorflow:Restoring parameters from weights_biases/CNN_mnist\n"
     ]
    }
   ],
   "source": [
    "saver.restore(sess=session, save_path=save_path)"
   ]
  }
 ],
 "metadata": {
  "kernelspec": {
   "display_name": "Python 3",
   "language": "python",
   "name": "python3"
  },
  "language_info": {
   "codemirror_mode": {
    "name": "ipython",
    "version": 3
   },
   "file_extension": ".py",
   "mimetype": "text/x-python",
   "name": "python",
   "nbconvert_exporter": "python",
   "pygments_lexer": "ipython3",
   "version": "3.5.2"
  }
 },
 "nbformat": 4,
 "nbformat_minor": 2
}
