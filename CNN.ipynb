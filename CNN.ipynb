{
 "cells": [
  {
   "cell_type": "code",
   "execution_count": 56,
   "metadata": {},
   "outputs": [],
   "source": [
    "%matplotlib inline\n",
    "import matplotlib.pyplot as plt\n",
    "import tensorflow as tf\n",
    "import numpy as np\n",
    "from sklearn.metrics import confusion_matrix\n",
    "import time\n",
    "from datetime import timedelta\n",
    "import math"
   ]
  },
  {
   "cell_type": "code",
   "execution_count": 57,
   "metadata": {},
   "outputs": [],
   "source": [
    "import cv2\n",
    "import os"
   ]
  },
  {
   "cell_type": "code",
   "execution_count": 111,
   "metadata": {},
   "outputs": [
    {
     "name": "stdout",
     "output_type": "stream",
     "text": [
      "WARNING:tensorflow:From c:\\users\\india\\appdata\\local\\programs\\python\\python35\\lib\\site-packages\\tensorflow\\contrib\\learn\\python\\learn\\datasets\\base.py:252: _internal_retry.<locals>.wrap.<locals>.wrapped_fn (from tensorflow.contrib.learn.python.learn.datasets.base) is deprecated and will be removed in a future version.\n",
      "Instructions for updating:\n",
      "Please use urllib or similar directly.\n",
      "Successfully downloaded train-images-idx3-ubyte.gz 9912422 bytes.\n",
      "Extracting /Downloads/mnists\\train-images-idx3-ubyte.gz\n",
      "Successfully downloaded train-labels-idx1-ubyte.gz 28881 bytes.\n",
      "Extracting /Downloads/mnists\\train-labels-idx1-ubyte.gz\n",
      "Successfully downloaded t10k-images-idx3-ubyte.gz 1648877 bytes.\n",
      "Extracting /Downloads/mnists\\t10k-images-idx3-ubyte.gz\n",
      "Successfully downloaded t10k-labels-idx1-ubyte.gz 4542 bytes.\n",
      "Extracting /Downloads/mnists\\t10k-labels-idx1-ubyte.gz\n"
     ]
    }
   ],
   "source": [
    "from tensorflow.examples.tutorials.mnist import input_data\n",
    "data = input_data.read_data_sets('/Downloads/mnists', one_hot='True')"
   ]
  },
  {
   "cell_type": "code",
   "execution_count": 112,
   "metadata": {},
   "outputs": [],
   "source": [
    "filter_1 = 5\n",
    "channels_1 = 16\n",
    "\n",
    "filter_2 = 5\n",
    "channels_2 = 36\n",
    "\n",
    "fc_size = 128"
   ]
  },
  {
   "cell_type": "code",
   "execution_count": 113,
   "metadata": {},
   "outputs": [],
   "source": [
    "saver = tf.train.Saver()"
   ]
  },
  {
   "cell_type": "code",
   "execution_count": 114,
   "metadata": {},
   "outputs": [],
   "source": [
    "y_true_test_cls = np.argmax(data.test.labels, axis = 1)"
   ]
  },
  {
   "cell_type": "code",
   "execution_count": 115,
   "metadata": {},
   "outputs": [],
   "source": [
    "save_path = 'weights_biases/CNN_mnist'"
   ]
  },
  {
   "cell_type": "code",
   "execution_count": 116,
   "metadata": {},
   "outputs": [],
   "source": [
    "imgsize = 28*28\n",
    "input_channels = 1\n",
    "num_classes = 10"
   ]
  },
  {
   "cell_type": "code",
   "execution_count": 117,
   "metadata": {},
   "outputs": [],
   "source": [
    "data.test.cls = np.argmax(data.test.labels, axis=1)\n",
    "data.validation.cls = np.argmax(data.validation.labels, axis=1)"
   ]
  },
  {
   "cell_type": "code",
   "execution_count": 76,
   "metadata": {},
   "outputs": [],
   "source": [
    "def plot_image(images, cls_true, cls_pred = None):\n",
    "    fig, axes = plt.subplots(1,2)\n",
    "    fig.subplots_adjust(hspace = 0.3, wspace = 0.3)\n",
    "    for i,ax in enumerate(axes.flat):\n",
    "        if cls_pred is not None:\n",
    "            xlabel = 'True:{0} and Pred:{1}'.format(cls_true[i], cls_pred[i])\n",
    "        else:\n",
    "            xlabel = 'True:{0} '.format(cls_true[i])\n",
    "        ax.imshow(images[i].reshape(28, 28), cmap='binary')\n",
    "        ax.set_xlabel(xlabel)\n"
   ]
  },
  {
   "cell_type": "code",
   "execution_count": 118,
   "metadata": {},
   "outputs": [
    {
     "name": "stdout",
     "output_type": "stream",
     "text": [
      "(784,)\n"
     ]
    },
    {
     "data": {
      "image/png": "[encoded data removed]",
      "text/plain": [
       "<Figure size 432x288 with 2 Axes>"
      ]
     },
     "metadata": {
      "needs_background": "light"
     },
     "output_type": "display_data"
    }
   ],
   "source": [
    "image_test = data.test.images[1:3]\n",
    "cls_true = y_true_test_cls[1:3]\n",
    "pred = np.array([7,2])\n",
    "plot_image(images=image_test, cls_true=cls_true, cls_pred=pred)\n",
    "print(image_test[0].shape)"
   ]
  },
  {
   "cell_type": "code",
   "execution_count": 78,
   "metadata": {},
   "outputs": [],
   "source": [
    "def new_weights(shape):\n",
    "    return tf.Variable(tf.truncated_normal(shape, stddev = 0.05))\n",
    "def new_biases(biaslength):\n",
    "    return tf.Variable(tf.constant(0.05, shape=[biaslength]))"
   ]
  },
  {
   "cell_type": "code",
   "execution_count": 79,
   "metadata": {},
   "outputs": [],
   "source": [
    "def new_conv_layer(input_image,\n",
    "              num_channels,#number of channels in the previous layer output(Ex:16)\n",
    "              filter_size,#usually 5x5\n",
    "              num_filters,#number of channels coming out of this layer(Ex:36)\n",
    "              pooling = True):\n",
    "    shape = [filter_size, filter_size, num_channels, num_filters]\n",
    "    weights = new_weights(shape)\n",
    "    biases = new_biases(biaslength = num_filters)\n",
    "    \n",
    "    layer = tf.nn.conv2d(input = input_image,\n",
    "                        filter = weights,\n",
    "                        strides = [1,1,1,1],#input_imgae_number, x_axis, y_Axis, channels in use.change only middle two\n",
    "                        padding = 'SAME')\n",
    "    layer += biases\n",
    "    \n",
    "    if pooling:\n",
    "        layer = tf.nn.max_pool(value = layer,\n",
    "                              ksize = [1,2,2,1],#Size of window to be considered(window from which we pick the max value)\n",
    "                              strides = [1,2,2,1],#Usually the same as the window size\n",
    "                              padding = 'SAME')\n",
    "    layer = tf.nn.relu(layer)\n",
    "    \n",
    "    return layer, weights"
   ]
  },
  {
   "cell_type": "code",
   "execution_count": 80,
   "metadata": {},
   "outputs": [],
   "source": [
    "def flatten_layer(layer):\n",
    "    #Usually the conv layer returns a 4 dim data, we need to flatten to 2 dim before giving it to FC layer.\n",
    "    layer_shape = layer.shape\n",
    "    #Expected: [num_images, img_width, imag_height, num_channels]\n",
    "    num_features = np.array(layer_shape[1:4], dtype=int).prod()\n",
    "    #transform to 2dim, [num_images, num_features]\n",
    "    layer_flat = tf.reshape(layer, [-1, num_features])\n",
    "    return layer_flat, num_features"
   ]
  },
  {
   "cell_type": "code",
   "execution_count": 81,
   "metadata": {},
   "outputs": [],
   "source": [
    "#We are expecting the input to be a 2 dimensional data.[num_images, num_inputs==num_features].\n",
    "#Output will be again a 2 dim[num_images, num_outputs]\n",
    "def fully_connected_layer(images,#input from previous layer\n",
    "                         num_inputs,\n",
    "                         num_outputs,\n",
    "                         relu = True):\n",
    "    weights = new_weights(shape = [num_inputs, num_outputs])\n",
    "    biases = new_biases(biaslength = num_outputs)\n",
    "    \n",
    "    layer = tf.matmul(images, weights) + biases\n",
    "    \n",
    "    if relu:\n",
    "        layer = tf.nn.relu(layer)\n",
    "    \n",
    "    return layer"
   ]
  },
  {
   "cell_type": "code",
   "execution_count": 82,
   "metadata": {},
   "outputs": [],
   "source": [
    "x = tf.placeholder(tf.float32, shape=[None, imgsize], name='x')\n",
    "#We are going to be givign the entire image data to this variable. meaning num_images X all pixels.\n",
    "x_image = tf.reshape(x, [-1, 28, 28, input_channels])\n",
    "#For feeding into the conv layer. [num_images, image_x_size, image_y_size, num_of_channels]\n",
    "y_true = tf.placeholder(tf.float32, shape=[None, num_classes], name='y_true')\n",
    "#[num_images, num_classes]\n",
    "y_true_cls = tf.argmax(y_true, dimension=1)"
   ]
  },
  {
   "cell_type": "code",
   "execution_count": 83,
   "metadata": {},
   "outputs": [],
   "source": [
    "layer_1, weights_1 = new_conv_layer(input_image = x_image,\n",
    "                                      num_channels = input_channels,#number of channels in the previous layer output(Ex:16)\n",
    "                                      filter_size = filter_1,#usually 5x5\n",
    "                                      num_filters = channels_1,#number of channels coming out of this layer(Ex:36)\n",
    "                                      pooling = True)\n",
    "#We are actually providing all the images at once here. To understand see that x_image is of [num_images, 28, 28, 1=gray_image]\n"
   ]
  },
  {
   "cell_type": "code",
   "execution_count": 136,
   "metadata": {},
   "outputs": [
    {
     "data": {
      "text/plain": [
       "array([[[[ 4.61520776e-02, -8.66108090e-02, -1.77786313e-02, ...,\n",
       "           4.72546890e-02,  4.55897227e-02, -8.85115638e-02],\n",
       "         [ 3.93530075e-03, -2.17614658e-02, -7.11147040e-02, ...,\n",
       "           3.56115438e-02,  8.54848698e-02, -1.84127260e-02],\n",
       "         [-3.29649774e-03,  1.29966736e-01, -7.41412118e-02, ...,\n",
       "           8.06311071e-02,  1.65591054e-02,  7.18157366e-02],\n",
       "         ...,\n",
       "         [-1.23379594e-02, -2.30368711e-02,  2.28581019e-02, ...,\n",
       "           8.98993090e-02,  4.94724028e-02,  1.69118103e-02],\n",
       "         [-4.69768941e-02, -5.94746880e-03,  2.55953874e-02, ...,\n",
       "           7.68459588e-02, -8.68914276e-03, -5.03373332e-02],\n",
       "         [ 2.94380561e-02,  4.93548103e-02, -2.39474382e-02, ...,\n",
       "          -3.42139713e-02, -7.25023076e-02,  6.33625910e-02]],\n",
       "\n",
       "        [[ 4.51491252e-02, -1.10599697e-01, -5.85999386e-03, ...,\n",
       "          -1.87840872e-02,  2.83830073e-02,  5.58014922e-02],\n",
       "         [ 6.29030541e-03, -2.97903698e-02,  6.65247366e-02, ...,\n",
       "          -1.42795239e-02, -5.07210568e-02, -3.26325335e-02],\n",
       "         [ 4.25464399e-02,  5.51157333e-02,  4.66846004e-02, ...,\n",
       "           4.42394093e-02,  8.25879574e-02,  6.69375360e-02],\n",
       "         ...,\n",
       "         [ 4.49501127e-02,  1.36236846e-02, -2.59526595e-02, ...,\n",
       "          -1.06208585e-02, -5.89922033e-02, -2.04889067e-02],\n",
       "         [-3.20479311e-02, -3.84321027e-02,  2.84446515e-02, ...,\n",
       "           4.11919784e-03,  2.63944035e-03,  3.97340336e-05],\n",
       "         [ 4.05959897e-02,  4.95956512e-03, -8.48450977e-03, ...,\n",
       "          -1.79707501e-02, -4.27502841e-02, -2.35819351e-02]],\n",
       "\n",
       "        [[ 1.00979105e-01, -6.32699430e-02, -1.93365440e-02, ...,\n",
       "          -5.79691641e-02,  9.16467905e-02, -2.38611698e-02],\n",
       "         [ 7.78436288e-02, -5.91111258e-02,  4.24676053e-02, ...,\n",
       "           6.56532182e-04, -1.87619999e-02,  2.98158955e-02],\n",
       "         [ 4.98335548e-02,  3.01008299e-02,  1.14089372e-02, ...,\n",
       "           6.05277643e-02, -1.97169296e-02, -2.36180332e-02],\n",
       "         ...,\n",
       "         [ 8.05422291e-02, -2.13089548e-02,  4.75010388e-02, ...,\n",
       "          -2.94972192e-02, -3.57922090e-06,  1.56346280e-02],\n",
       "         [ 7.91674759e-03, -3.65324356e-02,  2.56076548e-02, ...,\n",
       "           3.10188737e-02, -6.48134276e-02,  4.98965308e-02],\n",
       "         [ 1.15064858e-02, -1.22220270e-01, -7.06143454e-02, ...,\n",
       "          -3.72869633e-02, -4.40682918e-02, -3.74443382e-02]],\n",
       "\n",
       "        [[ 1.95200313e-02, -3.52065638e-02, -1.90690849e-02, ...,\n",
       "          -1.47601729e-02, -1.56934634e-02, -2.59666685e-02],\n",
       "         [ 8.22490081e-02, -7.18247890e-02,  2.47937571e-02, ...,\n",
       "           1.25326235e-02,  7.81965163e-03, -3.72641645e-02],\n",
       "         [-3.59705510e-03,  4.86829206e-02, -3.37179005e-02, ...,\n",
       "          -6.95067123e-02,  6.29389659e-02,  6.80074468e-02],\n",
       "         ...,\n",
       "         [ 1.30147962e-02,  1.81533974e-02, -1.16776312e-02, ...,\n",
       "           2.05779467e-02, -7.99484625e-02, -1.29011543e-02],\n",
       "         [-1.18371984e-03,  7.07383826e-02, -8.54388624e-03, ...,\n",
       "           4.79121096e-02, -1.24203907e-02,  5.19760698e-02],\n",
       "         [ 8.45773146e-02,  1.42471101e-02, -4.17416058e-02, ...,\n",
       "          -2.69831885e-02, -4.71103191e-02,  4.06759679e-02]],\n",
       "\n",
       "        [[-7.08083957e-02, -1.42867761e-02, -6.10271581e-02, ...,\n",
       "          -5.13456501e-02, -5.94088174e-02, -8.61617848e-02],\n",
       "         [ 1.08245842e-01, -3.44468690e-02, -4.37944122e-02, ...,\n",
       "          -2.57473271e-02,  1.06628075e-01,  6.18278328e-03],\n",
       "         [ 6.65852726e-02,  2.76402254e-02, -2.60838810e-02, ...,\n",
       "           4.51342501e-02, -2.94021759e-02,  8.04614723e-02],\n",
       "         ...,\n",
       "         [-4.65207063e-02, -1.32620614e-02, -1.25428528e-01, ...,\n",
       "          -4.41142619e-02, -7.14018792e-02,  4.78313640e-02],\n",
       "         [-6.88618794e-02,  3.99284661e-02, -3.64210904e-02, ...,\n",
       "          -2.61464342e-02,  4.06038314e-02,  2.64791381e-02],\n",
       "         [-2.68257763e-02, -5.64413853e-02, -4.55829129e-02, ...,\n",
       "           3.02663837e-02,  6.42261431e-02,  1.12856431e-02]]],\n",
       "\n",
       "\n",
       "       [[[-1.57880653e-02, -5.32963313e-02,  6.10927911e-03, ...,\n",
       "          -1.96691453e-02, -2.58571301e-02,  4.87650483e-04],\n",
       "         [-2.08200011e-02, -5.73138334e-02,  3.10026295e-02, ...,\n",
       "           5.13289450e-03,  9.24268216e-02,  7.93895125e-02],\n",
       "         [-1.34594124e-02,  3.90882939e-02, -1.12852596e-01, ...,\n",
       "          -4.10246575e-05, -2.90599074e-02,  4.64838377e-04],\n",
       "         ...,\n",
       "         [ 8.81531835e-02, -4.42186557e-03,  1.60045754e-02, ...,\n",
       "          -2.06918400e-02, -1.83211658e-02, -3.99132743e-02],\n",
       "         [-8.61558318e-03, -7.37163052e-03,  6.54274374e-02, ...,\n",
       "           3.52060013e-02,  1.17336558e-02,  3.90327051e-02],\n",
       "         [-1.43816229e-02, -3.09834480e-02,  6.17797188e-02, ...,\n",
       "           2.33268626e-02,  2.35411339e-02, -3.01361419e-02]],\n",
       "\n",
       "        [[ 4.93079349e-02, -4.86097187e-02,  5.63158393e-02, ...,\n",
       "          -9.71271321e-02,  4.84527816e-04,  1.30917281e-02],\n",
       "         [ 6.12215959e-02,  2.77874060e-02,  1.06241137e-01, ...,\n",
       "           4.21405621e-02,  6.61797076e-03,  5.31826867e-03],\n",
       "         [ 2.02471931e-02, -5.25108129e-02,  3.37797217e-02, ...,\n",
       "          -2.35918034e-02,  2.44498346e-02,  1.01273075e-01],\n",
       "         ...,\n",
       "         [ 8.75069574e-02, -3.64751592e-02,  1.55253066e-02, ...,\n",
       "           2.93973442e-02,  1.82160996e-02,  5.43763004e-02],\n",
       "         [ 1.48154469e-02,  1.23749236e-02,  3.99158411e-02, ...,\n",
       "           2.35930067e-02, -3.95102762e-02,  3.25651281e-02],\n",
       "         [ 1.83646046e-02, -2.30189506e-02,  2.67704427e-02, ...,\n",
       "           5.39992563e-02, -2.05907654e-02,  2.43732352e-02]],\n",
       "\n",
       "        [[ 2.95817573e-02, -6.94160834e-02,  6.49290010e-02, ...,\n",
       "          -6.30465001e-02, -9.03547090e-03, -8.69774148e-02],\n",
       "         [-3.99336033e-02, -3.56256142e-02,  1.78412888e-02, ...,\n",
       "          -5.59932031e-02,  3.85982879e-02, -8.22409168e-02],\n",
       "         [ 7.31209144e-02, -3.23951952e-02,  4.49967012e-02, ...,\n",
       "           8.74531642e-02, -6.72382442e-03, -4.75150086e-02],\n",
       "         ...,\n",
       "         [ 5.30594178e-02, -2.35366002e-02,  4.68334779e-02, ...,\n",
       "           8.50410983e-02,  1.48412455e-02,  3.55489030e-02],\n",
       "         [ 2.74396203e-02, -1.46546755e-02,  5.88648394e-03, ...,\n",
       "           6.49756417e-02, -8.59939307e-02, -4.56593484e-02],\n",
       "         [ 6.31476045e-02, -4.45736758e-02, -5.09413481e-02, ...,\n",
       "          -4.21825461e-02, -3.74933369e-02, -8.53565522e-03]],\n",
       "\n",
       "        [[ 1.70139074e-02, -1.02172315e-01, -4.37034629e-02, ...,\n",
       "           9.41740870e-02, -3.86434123e-02, -3.49102207e-02],\n",
       "         [ 2.96153650e-02, -9.71110314e-02, -3.40430252e-02, ...,\n",
       "           3.05741141e-03,  5.18963821e-02, -3.21238749e-02],\n",
       "         [ 2.22158507e-02, -9.21942294e-03,  6.90713897e-02, ...,\n",
       "          -6.63145492e-03,  5.92770725e-02,  3.68025452e-02],\n",
       "         ...,\n",
       "         [-8.26398842e-03, -5.69979511e-02, -1.47739807e-02, ...,\n",
       "          -5.14746550e-03, -2.18232423e-02,  3.01198848e-03],\n",
       "         [ 5.04154302e-02, -4.57550474e-02, -3.77252884e-02, ...,\n",
       "          -6.29800558e-02,  3.73184271e-02,  4.45494242e-02],\n",
       "         [-5.89589290e-02,  4.93044686e-03, -3.71818431e-03, ...,\n",
       "           7.22676441e-02, -1.00668531e-03,  3.18661109e-02]],\n",
       "\n",
       "        [[-1.08639814e-01, -7.27983797e-03,  6.30613640e-02, ...,\n",
       "           5.02317883e-02, -6.80245608e-02,  6.10115789e-02],\n",
       "         [-9.31535512e-02,  1.71841606e-02,  1.00904919e-01, ...,\n",
       "          -3.03174276e-02,  9.19005871e-02, -6.10140823e-02],\n",
       "         [-9.49514622e-04, -9.55900736e-03,  4.93900618e-03, ...,\n",
       "           1.22911045e-02,  2.63012643e-03,  3.41346078e-02],\n",
       "         ...,\n",
       "         [-2.40893904e-02,  2.20824014e-02,  2.49618925e-02, ...,\n",
       "          -4.73500043e-02, -1.15803471e-02, -4.41940352e-02],\n",
       "         [-6.97260275e-02,  1.67633649e-02, -1.49607006e-02, ...,\n",
       "          -2.93180277e-03,  3.90932523e-03, -4.67955284e-02],\n",
       "         [-9.31291580e-02,  8.42688698e-03, -4.95330729e-02, ...,\n",
       "           2.00690720e-02,  1.81985702e-02, -1.07396152e-02]]],\n",
       "\n",
       "\n",
       "       [[[-8.17802101e-02,  2.26592589e-02,  2.88024135e-02, ...,\n",
       "          -7.07513541e-02, -1.18971299e-02, -4.34088036e-02],\n",
       "         [ 3.15282084e-02,  1.59016829e-02,  3.34880427e-02, ...,\n",
       "          -2.16304082e-02,  5.03430963e-02,  2.85696890e-02],\n",
       "         [ 6.30099420e-03, -3.41575034e-02, -1.65987816e-02, ...,\n",
       "           1.13398522e-01, -4.51913401e-02, -2.00023372e-02],\n",
       "         ...,\n",
       "         [ 8.39352384e-02, -1.01964116e-01,  3.54335941e-02, ...,\n",
       "          -1.23691894e-02,  5.58448769e-03, -2.33328398e-02],\n",
       "         [ 5.48070893e-02, -6.31376170e-03, -4.69109267e-02, ...,\n",
       "          -4.03896980e-02,  9.73054320e-02,  4.60766070e-02],\n",
       "         [ 2.20078472e-02,  1.73946284e-02,  1.61966216e-02, ...,\n",
       "          -1.08716264e-02,  2.56789550e-02,  1.23502491e-02]],\n",
       "\n",
       "        [[-2.25870777e-02,  9.64780338e-03,  7.89668784e-02, ...,\n",
       "           6.25468567e-02, -2.96188518e-02,  8.49883780e-02],\n",
       "         [ 1.30712073e-02,  1.11957490e-02,  1.34191616e-02, ...,\n",
       "           2.19979957e-02,  5.61222993e-02, -9.57286544e-03],\n",
       "         [-1.38882473e-02, -1.65881182e-03, -3.65117304e-02, ...,\n",
       "          -1.47501845e-02,  4.32271585e-02,  4.04167064e-02],\n",
       "         ...,\n",
       "         [ 2.63764989e-02, -3.41881323e-03,  1.07037332e-02, ...,\n",
       "          -4.61928099e-02, -3.15045863e-02, -4.59064357e-02],\n",
       "         [ 1.00350648e-01, -4.50283624e-02,  1.05955467e-01, ...,\n",
       "           3.89179923e-02,  3.41544440e-03, -1.46154761e-02],\n",
       "         [-4.79157344e-02, -3.54352519e-02,  5.66642657e-02, ...,\n",
       "          -2.08718218e-02,  2.30086073e-02,  4.46829014e-02]],\n",
       "\n",
       "        [[ 1.12173095e-01,  3.36574055e-02,  1.71230640e-02, ...,\n",
       "          -8.80385656e-03, -4.83081453e-02,  1.01152740e-01],\n",
       "         [-7.41455751e-03, -8.61620158e-02, -1.66851084e-03, ...,\n",
       "          -7.79370293e-02, -6.37273863e-02,  2.56783552e-02],\n",
       "         [ 5.38681597e-02,  4.32691425e-02, -1.46505507e-02, ...,\n",
       "          -2.61319056e-02,  9.56349671e-02, -7.42987767e-02],\n",
       "         ...,\n",
       "         [ 1.01423571e-02, -3.54546867e-02,  9.45184305e-02, ...,\n",
       "          -2.06968915e-02,  4.58737463e-02, -3.70666869e-02],\n",
       "         [ 4.32146192e-02, -2.34248880e-02, -4.12226692e-02, ...,\n",
       "          -2.95147058e-02, -5.59600489e-03,  1.15347598e-02],\n",
       "         [-1.12874709e-01, -1.01840785e-02, -2.86961235e-02, ...,\n",
       "           4.53747436e-03, -1.04582228e-03, -9.30960923e-02]],\n",
       "\n",
       "        [[ 5.37733510e-02, -5.85737228e-02,  1.38997585e-02, ...,\n",
       "           2.01393329e-02,  4.44488898e-02, -6.18388020e-02],\n",
       "         [ 5.57550043e-03,  1.83749031e-02,  1.02977633e-01, ...,\n",
       "          -3.43406834e-02,  9.73634571e-02,  3.61070298e-02],\n",
       "         [ 2.52840593e-02,  7.85337538e-02, -1.33987600e-02, ...,\n",
       "          -4.78714705e-02, -4.25377786e-02,  3.32991108e-02],\n",
       "         ...,\n",
       "         [-5.05115166e-02, -1.03347749e-02,  1.21993102e-01, ...,\n",
       "           6.41713850e-03,  7.24581927e-02, -6.47312924e-02],\n",
       "         [-6.94052875e-02, -1.18437193e-01, -6.49726810e-03, ...,\n",
       "          -4.39113891e-03,  3.36897075e-02,  4.60006855e-02],\n",
       "         [-1.09756023e-01,  6.61311895e-02,  7.02447072e-02, ...,\n",
       "          -4.72167805e-02, -1.22195138e-02,  2.38482635e-02]],\n",
       "\n",
       "        [[-6.85652569e-02, -3.65115143e-02,  1.00623623e-01, ...,\n",
       "           9.02118236e-02,  6.38691336e-03,  4.61483635e-02],\n",
       "         [-1.01062328e-01,  1.00108974e-01,  5.40235685e-03, ...,\n",
       "          -3.77939045e-02, -1.70196854e-02, -6.07632175e-02],\n",
       "         [-3.35207582e-02,  4.81629185e-02,  1.26721645e-02, ...,\n",
       "          -5.39120883e-02, -2.41797883e-02, -3.70327532e-02],\n",
       "         ...,\n",
       "         [-7.53698796e-02,  3.27372514e-02, -6.00961260e-02, ...,\n",
       "           3.41410376e-02,  7.69496933e-02, -1.02308184e-01],\n",
       "         [-4.37678248e-02,  6.55029193e-02,  1.00404665e-01, ...,\n",
       "           9.73861217e-02,  2.83715799e-02, -2.81910338e-02],\n",
       "         [-1.00050032e-01,  1.22983128e-01,  3.19424048e-02, ...,\n",
       "          -2.82058176e-02,  3.13787907e-02,  1.06416373e-02]]],\n",
       "\n",
       "\n",
       "       [[[-2.21201219e-03,  5.53614981e-02, -7.08776638e-02, ...,\n",
       "          -4.69012223e-02,  3.33602428e-02,  1.01047024e-01],\n",
       "         [ 8.01146850e-02,  2.08098404e-02,  8.54202658e-02, ...,\n",
       "           9.32340994e-02,  2.67809816e-02,  2.98505370e-02],\n",
       "         [ 7.81645812e-03,  3.54211815e-02,  7.70440027e-02, ...,\n",
       "           6.25129193e-02,  6.10878617e-02,  1.35329710e-02],\n",
       "         ...,\n",
       "         [-2.74442621e-02,  1.84560250e-02,  6.27512112e-02, ...,\n",
       "          -5.30966325e-03,  2.21193302e-02,  1.21165209e-01],\n",
       "         [ 1.61304846e-02,  4.29832190e-02,  4.64236476e-02, ...,\n",
       "           2.48874654e-03,  2.24970933e-02, -5.75958788e-02],\n",
       "         [ 6.80376366e-02,  6.53490871e-02, -2.99376268e-02, ...,\n",
       "           1.13449402e-01,  9.34555940e-03, -1.21555682e-02]],\n",
       "\n",
       "        [[-6.39915466e-02, -4.51550707e-02, -1.00614429e-02, ...,\n",
       "           6.71203947e-03, -1.79095361e-02,  5.05141877e-02],\n",
       "         [ 1.35417571e-02,  9.20666233e-02,  3.48162167e-02, ...,\n",
       "          -3.85004394e-02,  1.03039809e-01,  6.57888874e-02],\n",
       "         [ 1.22010998e-01, -3.26291695e-02,  2.94369422e-02, ...,\n",
       "           1.00284051e-02,  1.14927910e-01,  6.22736334e-05],\n",
       "         ...,\n",
       "         [ 3.93666513e-02,  4.05913331e-02,  2.22374033e-02, ...,\n",
       "           6.69853538e-02,  7.80793503e-02, -4.11338620e-02],\n",
       "         [ 7.91231096e-02, -3.61942127e-02, -1.47366934e-02, ...,\n",
       "           1.26344729e-02,  2.64842771e-02, -1.45908678e-04],\n",
       "         [ 2.05673035e-02,  1.29146978e-01, -6.98635727e-03, ...,\n",
       "           6.37649521e-02, -9.92746744e-03,  2.24227868e-02]],\n",
       "\n",
       "        [[-4.54411237e-03,  2.37795990e-02,  3.74438465e-02, ...,\n",
       "          -1.19346436e-02,  2.38357130e-02,  3.27291712e-02],\n",
       "         [-5.90297766e-02,  1.00648617e-02, -6.18693531e-02, ...,\n",
       "           1.87260099e-04,  1.69594940e-02, -4.24879981e-04],\n",
       "         [ 1.56409703e-02, -4.74289581e-02,  9.46611613e-02, ...,\n",
       "           5.08555025e-02,  3.51614831e-03, -2.46386956e-02],\n",
       "         ...,\n",
       "         [-2.23001931e-02,  7.63677135e-02,  1.42933242e-02, ...,\n",
       "          -2.90375855e-02, -1.67827420e-02,  3.49062458e-02],\n",
       "         [ 9.49605852e-02,  2.18572039e-02, -1.28148934e-02, ...,\n",
       "           1.05039060e-01,  1.44710504e-02, -6.29600585e-02],\n",
       "         [ 2.02075429e-02,  9.12455842e-02, -4.07948950e-03, ...,\n",
       "          -2.27102712e-02, -2.86243245e-04, -2.82695936e-03]],\n",
       "\n",
       "        [[ 9.08289850e-02,  6.43509328e-02,  6.19603209e-02, ...,\n",
       "          -1.18394732e-03,  1.61592308e-02, -3.10769351e-03],\n",
       "         [ 4.06571738e-02,  7.90121779e-02,  3.76660563e-02, ...,\n",
       "          -4.37568985e-02,  5.55822030e-02, -6.27099769e-04],\n",
       "         [ 9.64935683e-03,  5.25908433e-02,  2.85362098e-02, ...,\n",
       "           7.39225820e-02, -5.49658127e-02,  7.45932832e-02],\n",
       "         ...,\n",
       "         [-2.75236219e-02,  7.45974854e-02,  7.73439109e-02, ...,\n",
       "          -7.08568841e-02,  2.22126488e-02,  6.53374717e-02],\n",
       "         [ 1.49467178e-02,  6.25099093e-02,  1.89369861e-02, ...,\n",
       "           3.91267464e-02,  1.22961532e-02,  2.79134326e-02],\n",
       "         [ 4.10539769e-02,  1.15574017e-01, -8.36290866e-02, ...,\n",
       "           7.04276725e-04, -7.62527576e-03,  5.38646430e-02]],\n",
       "\n",
       "        [[-2.08205935e-02,  2.80724652e-02, -5.32742552e-02, ...,\n",
       "          -7.44316652e-02,  1.53059615e-02,  1.78407542e-02],\n",
       "         [-3.25656980e-02,  5.31898178e-02,  7.68022146e-03, ...,\n",
       "          -1.39672020e-02,  5.61757386e-02, -3.18023935e-02],\n",
       "         [-5.32188080e-02,  1.06586367e-02,  8.83065909e-02, ...,\n",
       "           3.19446996e-02,  2.32095681e-02, -5.55441305e-02],\n",
       "         ...,\n",
       "         [-9.43101943e-02,  3.02131008e-02,  4.49117944e-02, ...,\n",
       "          -1.81430466e-02,  5.82574569e-02,  3.33172157e-02],\n",
       "         [-2.62726238e-03,  6.00066446e-02,  7.71241845e-04, ...,\n",
       "           5.17228283e-02, -3.12244445e-02, -9.55914259e-02],\n",
       "         [ 6.94146529e-02,  1.56624988e-02, -8.50452852e-05, ...,\n",
       "          -6.59631938e-02,  7.62427524e-02,  1.74518712e-02]]],\n",
       "\n",
       "\n",
       "       [[[ 7.15166936e-03,  3.81152295e-02, -8.93115178e-02, ...,\n",
       "          -9.17032920e-03, -5.10938950e-02,  2.12270580e-03],\n",
       "         [ 1.01515420e-01,  3.31414267e-02,  5.03913537e-02, ...,\n",
       "           3.99467237e-02, -5.01938462e-02, -3.42894942e-02],\n",
       "         [ 2.33328417e-02, -6.75366893e-02,  2.49376744e-02, ...,\n",
       "           3.23034488e-02, -5.48689477e-02,  9.62439775e-02],\n",
       "         ...,\n",
       "         [-3.42456624e-02,  4.25573736e-02,  2.51724552e-02, ...,\n",
       "           5.73319085e-02,  1.00296341e-01,  4.73317355e-02],\n",
       "         [ 9.31490138e-02,  6.13426715e-02,  8.18525553e-02, ...,\n",
       "           2.65019648e-02,  6.13922924e-02,  1.23343863e-01],\n",
       "         [ 1.11130318e-02,  3.11292373e-02,  1.56064378e-02, ...,\n",
       "           6.39927899e-03,  9.29083228e-02, -4.71936725e-02]],\n",
       "\n",
       "        [[-2.08912808e-02,  7.22577199e-02, -4.37755994e-02, ...,\n",
       "          -6.29690588e-02,  3.48798744e-02,  1.01270452e-01],\n",
       "         [ 7.91062489e-02,  3.93340960e-02, -8.91857147e-02, ...,\n",
       "          -1.97116565e-02,  9.38138440e-02,  3.43724526e-02],\n",
       "         [ 5.96254580e-02, -9.85445641e-03,  2.52857264e-02, ...,\n",
       "          -1.83435138e-02,  1.92223160e-04,  3.51631194e-02],\n",
       "         ...,\n",
       "         [ 8.84054229e-02,  9.87846702e-02, -1.07141277e-02, ...,\n",
       "           5.08845318e-03,  8.21533706e-03,  4.80142683e-02],\n",
       "         [ 9.64054018e-02,  1.10819101e-01,  9.17337984e-02, ...,\n",
       "           1.50928991e-02,  5.30894706e-03, -9.54735000e-03],\n",
       "         [-4.72137667e-02, -7.57789053e-03, -6.20664731e-02, ...,\n",
       "          -2.93866657e-02, -1.98227987e-02,  6.65314347e-02]],\n",
       "\n",
       "        [[ 8.02750364e-02, -3.50403301e-02,  4.97537814e-02, ...,\n",
       "           4.99696620e-02,  3.17918807e-02, -1.99252204e-03],\n",
       "         [ 3.29746678e-02,  7.25789592e-02, -9.67011135e-03, ...,\n",
       "           6.77356049e-02, -1.45447962e-02, -3.06646153e-02],\n",
       "         [ 8.87658745e-02, -4.37093899e-02,  2.59564109e-02, ...,\n",
       "           9.25065577e-03,  1.03547052e-01,  5.09779975e-02],\n",
       "         ...,\n",
       "         [ 8.47427994e-02,  4.78302874e-02, -2.03151498e-02, ...,\n",
       "           9.75685641e-02,  7.55801052e-02,  2.04338953e-02],\n",
       "         [ 9.63848270e-03,  2.08045747e-02,  3.74908671e-02, ...,\n",
       "          -6.18925691e-02,  5.63898049e-02,  6.80600479e-02],\n",
       "         [-2.19686311e-02,  6.75027668e-02, -7.97154680e-02, ...,\n",
       "          -5.59974611e-02, -2.43780315e-02,  5.12507334e-02]],\n",
       "\n",
       "        [[ 5.89267276e-02,  4.60534729e-02, -3.32959630e-02, ...,\n",
       "           2.73796776e-03,  1.49402637e-02,  1.17201805e-01],\n",
       "         [ 5.22396974e-02,  8.74927118e-02,  2.58591734e-02, ...,\n",
       "           5.46602160e-02,  1.38475653e-02, -9.42047220e-03],\n",
       "         [ 7.59209767e-02,  7.36240894e-02,  4.06368971e-02, ...,\n",
       "          -4.54646273e-04,  4.86940779e-02,  2.94987019e-02],\n",
       "         ...,\n",
       "         [ 1.24000935e-02,  5.06350063e-02,  8.72920603e-02, ...,\n",
       "          -4.88502160e-02,  3.23752053e-02,  3.99914235e-02],\n",
       "         [ 6.88831434e-02,  3.66864875e-02, -1.58835091e-02, ...,\n",
       "           8.39309916e-02, -5.47042787e-02,  1.17394343e-01],\n",
       "         [-6.22960031e-02,  8.91310871e-02, -2.29099719e-03, ...,\n",
       "           2.61634365e-02,  5.28966598e-02, -2.90965755e-02]],\n",
       "\n",
       "        [[ 5.77430204e-02, -2.12650225e-02,  1.59015320e-02, ...,\n",
       "          -2.52221711e-02,  7.54146427e-02, -3.31865549e-02],\n",
       "         [ 3.30191031e-02,  4.22275104e-02, -4.67337929e-02, ...,\n",
       "          -4.33883630e-02, -1.35197071e-02, -3.45955193e-02],\n",
       "         [ 2.62199473e-02,  5.86268026e-03, -2.16743443e-02, ...,\n",
       "          -3.19443382e-02,  1.29206674e-02, -9.26195271e-03],\n",
       "         ...,\n",
       "         [ 4.11625579e-02, -7.17906803e-02,  8.41634497e-02, ...,\n",
       "          -1.62903443e-02, -3.42710465e-02,  1.61857158e-02],\n",
       "         [ 5.64037263e-02,  8.78573209e-03,  7.35624507e-02, ...,\n",
       "          -3.76123786e-02, -5.28355986e-02,  6.95274845e-02],\n",
       "         [ 5.20556867e-02,  1.70359537e-02, -4.69840579e-02, ...,\n",
       "          -1.53931733e-02,  4.51882444e-02, -1.53195877e-02]]]],\n",
       "      dtype=float32)"
      ]
     },
     "execution_count": 136,
     "metadata": {},
     "output_type": "execute_result"
    }
   ],
   "source": [
    "session.run(weights_2)"
   ]
  },
  {
   "cell_type": "code",
   "execution_count": 85,
   "metadata": {},
   "outputs": [
    {
     "data": {
      "text/plain": [
       "<tf.Variable 'Variable_8:0' shape=(5, 5, 1, 16) dtype=float32_ref>"
      ]
     },
     "execution_count": 85,
     "metadata": {},
     "output_type": "execute_result"
    }
   ],
   "source": [
    "weights_1"
   ]
  },
  {
   "cell_type": "code",
   "execution_count": 86,
   "metadata": {},
   "outputs": [],
   "source": [
    "layer_2, weights_2 = new_conv_layer(input_image = layer_1,#This is ok, becasue we are providing conv layer with 4 dim data\n",
    "                                      num_channels = channels_1,#number of channels in the previous layer output(Ex:16)\n",
    "                                      filter_size = filter_2,#usually 5x5\n",
    "                                      num_filters = channels_2,#number of channels coming out of this layer(Ex:36)\n",
    "                                      pooling = True)"
   ]
  },
  {
   "cell_type": "code",
   "execution_count": 87,
   "metadata": {},
   "outputs": [
    {
     "data": {
      "text/plain": [
       "<tf.Tensor 'Relu_4:0' shape=(?, 7, 7, 36) dtype=float32>"
      ]
     },
     "execution_count": 87,
     "metadata": {},
     "output_type": "execute_result"
    }
   ],
   "source": [
    "layer_2"
   ]
  },
  {
   "cell_type": "code",
   "execution_count": 88,
   "metadata": {},
   "outputs": [
    {
     "data": {
      "text/plain": [
       "<tf.Variable 'Variable_10:0' shape=(5, 5, 16, 36) dtype=float32_ref>"
      ]
     },
     "execution_count": 88,
     "metadata": {},
     "output_type": "execute_result"
    }
   ],
   "source": [
    "weights_2"
   ]
  },
  {
   "cell_type": "code",
   "execution_count": 89,
   "metadata": {},
   "outputs": [],
   "source": [
    "layer_flat, num_features = flatten_layer(layer_2)"
   ]
  },
  {
   "cell_type": "code",
   "execution_count": 90,
   "metadata": {},
   "outputs": [
    {
     "data": {
      "text/plain": [
       "<tf.Tensor 'Reshape_3:0' shape=(?, 1764) dtype=float32>"
      ]
     },
     "execution_count": 90,
     "metadata": {},
     "output_type": "execute_result"
    }
   ],
   "source": [
    "layer_flat"
   ]
  },
  {
   "cell_type": "code",
   "execution_count": 91,
   "metadata": {},
   "outputs": [],
   "source": [
    "#We use flatten API, because without it multiplication in the fully connected layer would be ver hard\n",
    "layer_fc_1 = fully_connected_layer(images = layer_flat,#input from the last conv layer.[num_images, num_features]\n",
    "                         num_inputs = num_features,\n",
    "                         num_outputs = fc_size,#This is the number of nodes in the first fully connected layer\n",
    "                         relu = True)"
   ]
  },
  {
   "cell_type": "code",
   "execution_count": 92,
   "metadata": {},
   "outputs": [
    {
     "data": {
      "text/plain": [
       "<tf.Tensor 'Relu_5:0' shape=(?, 128) dtype=float32>"
      ]
     },
     "execution_count": 92,
     "metadata": {},
     "output_type": "execute_result"
    }
   ],
   "source": [
    "layer_fc_1"
   ]
  },
  {
   "cell_type": "code",
   "execution_count": 93,
   "metadata": {},
   "outputs": [],
   "source": [
    "layer_fc_2 = fully_connected_layer(images = layer_fc_1,#input from the last conv layer.[num_images, num_features]\n",
    "                         num_inputs = fc_size,\n",
    "                         num_outputs = num_classes,#This is the number of nodes in the first fully connected layer\n",
    "                         relu = False)"
   ]
  },
  {
   "cell_type": "code",
   "execution_count": 94,
   "metadata": {},
   "outputs": [
    {
     "data": {
      "text/plain": [
       "<tf.Tensor 'add_7:0' shape=(?, 10) dtype=float32>"
      ]
     },
     "execution_count": 94,
     "metadata": {},
     "output_type": "execute_result"
    }
   ],
   "source": [
    "layer_fc_2"
   ]
  },
  {
   "cell_type": "code",
   "execution_count": 95,
   "metadata": {},
   "outputs": [],
   "source": [
    "#layer_fc_2 gives us the likely hood of each image belonging to a particular class.Now lets normalize it to get some readability\n",
    "#Note layer_fc_2 could be producing data which is too large or too small as well. Now we put that to some readable level.\n",
    "pred = tf.nn.softmax(layer_fc_2)\n",
    "y_pred_cls = tf.argmax(pred, dimension = 1)"
   ]
  },
  {
   "cell_type": "code",
   "execution_count": 96,
   "metadata": {},
   "outputs": [
    {
     "data": {
      "text/plain": [
       "<tf.Tensor 'ArgMax_3:0' shape=(?,) dtype=int64>"
      ]
     },
     "execution_count": 96,
     "metadata": {},
     "output_type": "execute_result"
    }
   ],
   "source": [
    "y_pred_cls"
   ]
  },
  {
   "cell_type": "code",
   "execution_count": 97,
   "metadata": {},
   "outputs": [],
   "source": [
    "#This section is to evaluate performance of each iteration. The cost\n",
    "cross_entropy = tf.nn.softmax_cross_entropy_with_logits(logits = layer_fc_2,\n",
    "                                              labels = y_true)\n",
    "#Here cross entropy is calculated for each image. That has to be normalized over all images\n",
    "\n",
    "cost = tf.reduce_mean(cross_entropy)"
   ]
  },
  {
   "cell_type": "code",
   "execution_count": 98,
   "metadata": {},
   "outputs": [],
   "source": [
    "optimizer = tf.train.AdamOptimizer(learning_rate = 1e-4).minimize(cost)"
   ]
  },
  {
   "cell_type": "code",
   "execution_count": 99,
   "metadata": {},
   "outputs": [],
   "source": [
    "correct_prediction = tf.equal(y_pred_cls, y_true_cls)\n",
    "#correct_prediction wil be true or false. We first convert it to 1 or 0. The we take the mean over all input images\n",
    "accuracy = tf.reduce_mean(tf.cast(correct_prediction, tf.float32))"
   ]
  },
  {
   "cell_type": "code",
   "execution_count": 100,
   "metadata": {},
   "outputs": [],
   "source": [
    "session = tf.Session()"
   ]
  },
  {
   "cell_type": "code",
   "execution_count": 101,
   "metadata": {},
   "outputs": [],
   "source": [
    "def init_all():\n",
    "    session.run(tf.initialize_all_variables())"
   ]
  },
  {
   "cell_type": "code",
   "execution_count": 102,
   "metadata": {},
   "outputs": [],
   "source": [
    "train_batch_size = 100\n",
    "total_iterations = 0\n",
    "max_validation_acc = 0"
   ]
  },
  {
   "cell_type": "code",
   "execution_count": 119,
   "metadata": {},
   "outputs": [],
   "source": [
    "def run_the_model(num_iterations):\n",
    "    global total_iterations\n",
    "    global max_validation_acc\n",
    "    for i in range(num_iterations):\n",
    "        x_batch, y_batch = data.train.next_batch(batch_size = train_batch_size)\n",
    "        \n",
    "        feed_dict_train = {x: x_batch,\n",
    "                          y_true: y_batch}\n",
    "        \n",
    "        session.run(optimizer, feed_dict = feed_dict_train)\n",
    "        \n",
    "        total_iterations = total_iterations + 1\n",
    "        if total_iterations % 100 == 0:\n",
    "            \n",
    "            acc = session.run(accuracy, feed_dict = feed_dict_train)\n",
    "            validation_acc = get_validation_accuracy()\n",
    "            testing_acc = get_test_accuracy()\n",
    "            print('Iterations: ',total_iterations,' Training_accuracy: ',acc, ' Testing_accuracy: ',testing_acc, \n",
    "                 ' Validation_accuracy: ', validation_acc)\n",
    "            if validation_acc < max_validation_acc:\n",
    "                if  violation_before == 5:\n",
    "                    print('Max_validation accuracy: ', max_validation_acc)\n",
    "                    i = num_iterations\n",
    "                else:\n",
    "                    violation_before = violation_before + 1\n",
    "            else:\n",
    "                violation_before = 0\n",
    "                max_validation_acc = validation_acc\n",
    "                saver.save(sess=session, save_path=save_path)\n",
    "    acc = session.run(accuracy, feed_dict = feed_dict_train)\n",
    "    validation_acc = get_validation_accuracy()\n",
    "    testing_acc = get_test_accuracy()\n",
    "    print('Iterations: ',total_iterations,' Training_accuracy: ',acc, ' Testing_accuracy: ',testing_acc, \n",
    "                 ' Validation_accuracy: ', validation_acc)\n",
    "        "
   ]
  },
  {
   "cell_type": "code",
   "execution_count": 104,
   "metadata": {},
   "outputs": [],
   "source": [
    "def get_test_accuracy():\n",
    "    return print_accuracy(data.test.images,\n",
    "                  data.test.labels,\n",
    "                  data.test.cls)"
   ]
  },
  {
   "cell_type": "code",
   "execution_count": 105,
   "metadata": {},
   "outputs": [],
   "source": [
    "def get_validation_accuracy():\n",
    "    return print_accuracy(data.validation.images,\n",
    "                  data.validation.labels,\n",
    "                  data.validation.cls)"
   ]
  },
  {
   "cell_type": "code",
   "execution_count": 106,
   "metadata": {},
   "outputs": [],
   "source": [
    "test_batch_size = 256\n",
    "def print_accuracy(dataimages, datalabels, true_datalabels):\n",
    "    num_test_examples = len(dataimages)\n",
    "    cls_pred = np.zeros(shape=num_test_examples, dtype=np.int)\n",
    "    i = 0\n",
    "    j = 0\n",
    "    while i < num_test_examples:\n",
    "        #print('running ', (num_test_examples-i))\n",
    "        j = min(test_batch_size + i, num_test_examples)\n",
    "        images = dataimages[i:j, :]\n",
    "        labels = datalabels[i:j, :]\n",
    "        feed_dict_test = {x: images,\n",
    "                         y_true: labels}\n",
    "        cls_pred[i:j] = session.run(y_pred_cls, feed_dict = feed_dict_test)\n",
    "        i = j\n",
    "    cls_true = true_datalabels\n",
    "    #print(cls_true.shape)\n",
    "    #print(cls_pred.shape)\n",
    "    correct = (cls_true == cls_pred)\n",
    "    acc = correct.sum()/num_test_examples\n",
    "    print('accuracy: ',format(acc*100),'%')\n",
    "    return acc"
   ]
  },
  {
   "cell_type": "code",
   "execution_count": 125,
   "metadata": {},
   "outputs": [],
   "source": [
    "init_all()"
   ]
  },
  {
   "cell_type": "code",
   "execution_count": 128,
   "metadata": {},
   "outputs": [
    {
     "name": "stdout",
     "output_type": "stream",
     "text": [
      "accuracy:  91.72 %\n"
     ]
    },
    {
     "data": {
      "text/plain": [
       "0.9172"
      ]
     },
     "execution_count": 128,
     "metadata": {},
     "output_type": "execute_result"
    }
   ],
   "source": [
    "get_test_accuracy()"
   ]
  },
  {
   "cell_type": "code",
   "execution_count": 129,
   "metadata": {},
   "outputs": [
    {
     "name": "stdout",
     "output_type": "stream",
     "text": [
      "accuracy:  91.56 %\n"
     ]
    },
    {
     "data": {
      "text/plain": [
       "0.9156"
      ]
     },
     "execution_count": 129,
     "metadata": {},
     "output_type": "execute_result"
    }
   ],
   "source": [
    "get_validation_accuracy()"
   ]
  },
  {
   "cell_type": "code",
   "execution_count": 123,
   "metadata": {},
   "outputs": [
    {
     "name": "stdout",
     "output_type": "stream",
     "text": [
      "accuracy:  83.82 %\n",
      "accuracy:  84.36 %\n",
      "Iterations:  200  Training_accuracy:  0.81  Testing_accuracy:  0.8436  Validation_accuracy:  0.8382\n",
      "accuracy:  87.36 %\n",
      "accuracy:  88.03999999999999 %\n",
      "Iterations:  300  Training_accuracy:  0.87  Testing_accuracy:  0.8804  Validation_accuracy:  0.8736\n",
      "accuracy:  89.14 %\n",
      "accuracy:  89.73 %\n",
      "Iterations:  400  Training_accuracy:  0.84  Testing_accuracy:  0.8973  Validation_accuracy:  0.8914\n",
      "accuracy:  91.16 %\n",
      "accuracy:  91.25999999999999 %\n",
      "Iterations:  500  Training_accuracy:  0.93  Testing_accuracy:  0.9126  Validation_accuracy:  0.9116\n",
      "accuracy:  91.56 %\n",
      "accuracy:  91.72 %\n",
      "Iterations:  600  Training_accuracy:  0.93  Testing_accuracy:  0.9172  Validation_accuracy:  0.9156\n",
      "accuracy:  91.56 %\n",
      "accuracy:  91.72 %\n",
      "Iterations:  600  Training_accuracy:  0.93  Testing_accuracy:  0.9172  Validation_accuracy:  0.9156\n"
     ]
    }
   ],
   "source": [
    "run_the_model(num_iterations = 500)#change to 1000"
   ]
  },
  {
   "cell_type": "code",
   "execution_count": 132,
   "metadata": {},
   "outputs": [],
   "source": [
    "def get_image_orig():\n",
    "    img = cv2.imread('C:/Users/india/Downloads/image.png', 0).astype(np.float32)\n",
    "    #img = 255-img\n",
    "    img = img/255\n",
    "    #img = img*255\n",
    "    \n",
    "    print('calling for image')\n",
    "    #img.dtype='float32'\n",
    "    resized_image = cv2.resize(img, (28,28))\n",
    "    print(resized_image.shape)\n",
    "    plt.imshow(resized_image, cmap='gray')\n",
    "    resized_image = resized_image.reshape(1,784)\n",
    "    print(resized_image.shape)\n",
    "    #os.remove('C:/Users/india/Downloads/image.png')\n",
    "\n",
    "    return resized_image"
   ]
  },
  {
   "cell_type": "code",
   "execution_count": 134,
   "metadata": {},
   "outputs": [
    {
     "name": "stdout",
     "output_type": "stream",
     "text": [
      "calling for image\n",
      "(28, 28)\n",
      "(1, 784)\n",
      "Prediction:  [2]\n"
     ]
    },
    {
     "data": {
      "image/png": "[encoded data removed]",
      "text/plain": [
       "<Figure size 432x288 with 1 Axes>"
      ]
     },
     "metadata": {
      "needs_background": "light"
     },
     "output_type": "display_data"
    }
   ],
   "source": [
    "input_data = get_image_orig()\n",
    "print('Prediction: ',session.run(y_pred_cls, feed_dict = {x: input_data}))"
   ]
  },
  {
   "cell_type": "code",
   "execution_count": 124,
   "metadata": {},
   "outputs": [
    {
     "data": {
      "text/plain": [
       "[<tf.Variable 'Variable:0' shape=(5, 5, 1, 16) dtype=float32_ref>,\n",
       " <tf.Variable 'Variable_1:0' shape=(16,) dtype=float32_ref>,\n",
       " <tf.Variable 'Variable_2:0' shape=(5, 5, 16, 36) dtype=float32_ref>,\n",
       " <tf.Variable 'Variable_3:0' shape=(36,) dtype=float32_ref>,\n",
       " <tf.Variable 'Variable_4:0' shape=(1764, 128) dtype=float32_ref>,\n",
       " <tf.Variable 'Variable_5:0' shape=(128,) dtype=float32_ref>,\n",
       " <tf.Variable 'Variable_6:0' shape=(128, 10) dtype=float32_ref>,\n",
       " <tf.Variable 'Variable_7:0' shape=(10,) dtype=float32_ref>,\n",
       " <tf.Variable 'beta1_power:0' shape=() dtype=float32_ref>,\n",
       " <tf.Variable 'beta2_power:0' shape=() dtype=float32_ref>,\n",
       " <tf.Variable 'Variable/Adam:0' shape=(5, 5, 1, 16) dtype=float32_ref>,\n",
       " <tf.Variable 'Variable/Adam_1:0' shape=(5, 5, 1, 16) dtype=float32_ref>,\n",
       " <tf.Variable 'Variable_1/Adam:0' shape=(16,) dtype=float32_ref>,\n",
       " <tf.Variable 'Variable_1/Adam_1:0' shape=(16,) dtype=float32_ref>,\n",
       " <tf.Variable 'Variable_2/Adam:0' shape=(5, 5, 16, 36) dtype=float32_ref>,\n",
       " <tf.Variable 'Variable_2/Adam_1:0' shape=(5, 5, 16, 36) dtype=float32_ref>,\n",
       " <tf.Variable 'Variable_3/Adam:0' shape=(36,) dtype=float32_ref>,\n",
       " <tf.Variable 'Variable_3/Adam_1:0' shape=(36,) dtype=float32_ref>,\n",
       " <tf.Variable 'Variable_4/Adam:0' shape=(1764, 128) dtype=float32_ref>,\n",
       " <tf.Variable 'Variable_4/Adam_1:0' shape=(1764, 128) dtype=float32_ref>,\n",
       " <tf.Variable 'Variable_5/Adam:0' shape=(128,) dtype=float32_ref>,\n",
       " <tf.Variable 'Variable_5/Adam_1:0' shape=(128,) dtype=float32_ref>,\n",
       " <tf.Variable 'Variable_6/Adam:0' shape=(128, 10) dtype=float32_ref>,\n",
       " <tf.Variable 'Variable_6/Adam_1:0' shape=(128, 10) dtype=float32_ref>,\n",
       " <tf.Variable 'Variable_7/Adam:0' shape=(10,) dtype=float32_ref>,\n",
       " <tf.Variable 'Variable_7/Adam_1:0' shape=(10,) dtype=float32_ref>,\n",
       " <tf.Variable 'Variable_8:0' shape=(5, 5, 1, 16) dtype=float32_ref>,\n",
       " <tf.Variable 'Variable_9:0' shape=(16,) dtype=float32_ref>,\n",
       " <tf.Variable 'Variable_10:0' shape=(5, 5, 16, 36) dtype=float32_ref>,\n",
       " <tf.Variable 'Variable_11:0' shape=(36,) dtype=float32_ref>,\n",
       " <tf.Variable 'Variable_12:0' shape=(1764, 128) dtype=float32_ref>,\n",
       " <tf.Variable 'Variable_13:0' shape=(128,) dtype=float32_ref>,\n",
       " <tf.Variable 'Variable_14:0' shape=(128, 10) dtype=float32_ref>,\n",
       " <tf.Variable 'Variable_15:0' shape=(10,) dtype=float32_ref>,\n",
       " <tf.Variable 'beta1_power_1:0' shape=() dtype=float32_ref>,\n",
       " <tf.Variable 'beta2_power_1:0' shape=() dtype=float32_ref>,\n",
       " <tf.Variable 'Variable_8/Adam:0' shape=(5, 5, 1, 16) dtype=float32_ref>,\n",
       " <tf.Variable 'Variable_8/Adam_1:0' shape=(5, 5, 1, 16) dtype=float32_ref>,\n",
       " <tf.Variable 'Variable_9/Adam:0' shape=(16,) dtype=float32_ref>,\n",
       " <tf.Variable 'Variable_9/Adam_1:0' shape=(16,) dtype=float32_ref>,\n",
       " <tf.Variable 'Variable_10/Adam:0' shape=(5, 5, 16, 36) dtype=float32_ref>,\n",
       " <tf.Variable 'Variable_10/Adam_1:0' shape=(5, 5, 16, 36) dtype=float32_ref>,\n",
       " <tf.Variable 'Variable_11/Adam:0' shape=(36,) dtype=float32_ref>,\n",
       " <tf.Variable 'Variable_11/Adam_1:0' shape=(36,) dtype=float32_ref>,\n",
       " <tf.Variable 'Variable_12/Adam:0' shape=(1764, 128) dtype=float32_ref>,\n",
       " <tf.Variable 'Variable_12/Adam_1:0' shape=(1764, 128) dtype=float32_ref>,\n",
       " <tf.Variable 'Variable_13/Adam:0' shape=(128,) dtype=float32_ref>,\n",
       " <tf.Variable 'Variable_13/Adam_1:0' shape=(128,) dtype=float32_ref>,\n",
       " <tf.Variable 'Variable_14/Adam:0' shape=(128, 10) dtype=float32_ref>,\n",
       " <tf.Variable 'Variable_14/Adam_1:0' shape=(128, 10) dtype=float32_ref>,\n",
       " <tf.Variable 'Variable_15/Adam:0' shape=(10,) dtype=float32_ref>,\n",
       " <tf.Variable 'Variable_15/Adam_1:0' shape=(10,) dtype=float32_ref>]"
      ]
     },
     "execution_count": 124,
     "metadata": {},
     "output_type": "execute_result"
    }
   ],
   "source": [
    "tf.all_variables()"
   ]
  },
  {
   "cell_type": "code",
   "execution_count": 127,
   "metadata": {},
   "outputs": [
    {
     "name": "stdout",
     "output_type": "stream",
     "text": [
      "INFO:tensorflow:Restoring parameters from weights_biases/CNN_mnist\n"
     ]
    }
   ],
   "source": [
    "saver.restore(sess=session, save_path=save_path)"
   ]
  },
  {
   "cell_type": "code",
   "execution_count": null,
   "metadata": {},
   "outputs": [],
   "source": []
  }
 ],
 "metadata": {
  "kernelspec": {
   "display_name": "Python 3",
   "language": "python",
   "name": "python3"
  },
  "language_info": {
   "codemirror_mode": {
    "name": "ipython",
    "version": 3
   },
   "file_extension": ".py",
   "mimetype": "text/x-python",
   "name": "python",
   "nbconvert_exporter": "python",
   "pygments_lexer": "ipython3",
   "version": "3.5.2"
  }
 },
 "nbformat": 4,
 "nbformat_minor": 2
}
